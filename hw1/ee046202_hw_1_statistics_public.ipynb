{
 "cells": [
  {
   "cell_type": "markdown",
   "metadata": {},
   "source": [
    "# <img src=\"https://img.icons8.com/dusk/64/000000/artificial-intelligence.png\" style=\"height:50px;display:inline\"> EE 046202 - Technion - Unsupervised Learning & Data Analysis\n",
    "---\n",
    "\n",
    "## Homework 1 - Statistics\n",
    "---\n",
    "\n",
    "### <a style='color:red'> Due Date: 29.11.2020 </a>\n",
    "\n",
    "\n",
    "### <img src=\"https://img.icons8.com/bubbles/50/000000/checklist.png\" style=\"height:50px;display:inline\"> Agenda\n",
    "---\n",
    "* Questions\n",
    "    * Gaussian RVs\n",
    "    * Parametric & Non-Parametric Estimation\n",
    "    * Exam Question - Estimators\n",
    "* Python Exercise - Parkinson's Disease Classification Data Analysis\n",
    "\n",
    "#### Use as many cells as you need\n",
    "#### אפשר גם לכתוב בעברית, אבל עדיף באנגלית\n",
    "\n",
    "* Code Tasks are denoted with: <img src=\"https://img.icons8.com/color/48/000000/code.png\">\n",
    "* Questions (which you need to answer in a Markdown cell) are denoted with: <img src=\"https://img.icons8.com/bubbles/48/000000/ask-question.png\">\n",
    "\n",
    "* $\\large\\LaTeX$ <a href=\"https://kapeli.com/cheat_sheets/LaTeX_Math_Symbols.docset/Contents/Resources/Documents/index\">Cheat-Sheet</a> (to write equations)\n",
    "    * <a href=\"http://tug.ctan.org/info/latex-refsheet/LaTeX_RefSheet.pdf\">Another Cheat-Sheet</a>"
   ]
  },
  {
   "cell_type": "markdown",
   "metadata": {},
   "source": [
    "### <img src=\"https://img.icons8.com/bubbles/50/000000/information.png\" style=\"height:50px;display:inline\"> Students Information\n",
    "---\n",
    "* Fill in\n",
    "\n",
    "|Name     |Campus Email| ID  |\n",
    "|---------|--------------------------------|----------|\n",
    "|Student 1| student_1@campus.technion.ac.il| 123456789|\n",
    "|Student 2| student_2@campus.technion.ac.il| 987654321|\n"
   ]
  },
  {
   "cell_type": "markdown",
   "metadata": {},
   "source": [
    "### <img src=\"https://img.icons8.com/bubbles/50/000000/upload-to-cloud.png\" style=\"height:50px;display:inline\"> Submission Guidelines\n",
    "---\n",
    "* Maximal garde: **100** (even with the bonus, the grade will not be above 100).\n",
    "    * Example: if you got 5 points bonus, but you were right in all sections, your grade will still be 100 (and not 105).\n",
    "    * Example: if you got 5 points bonus, and 6 points were deducted for wrong answers, your grade will be 99.\n",
    "* Submission only in **pairs**. \n",
    "    * Please make sure you have registered your group in Moodle (there is a group creation component on the Moodle where you need to create your group and assign members).\n",
    "* **ANSWERS TO THEORETICAL/MATHEMATICAL QUESTIONS**:\n",
    "    * **Typed - 5 points bonus**: you can type directly in a Markdown cell using Latex (see cheatsheets above), or use Word, Overleaf, LyX...\n",
    "        * This is a really good practice, we encourage you to practice your math typing skills.\n",
    "    * **Handwritten** - if we can't read your handwriting, we will automatically take off the points of the questions. Please write clearly. No bonus for handwritten submissions.\n",
    "* <a style='color:red'> SAVE THE NOTEBOOKS WITH THE OUTPUT, CODE CELLS THAT WERE NOT RUN WILL NOT GET ANY POINTS! </a>\n",
    "* What you have to submit:\n",
    "    * If you have answered the questions in the notebook, you should submit this file only, with the name: `ee046202_hw1_id1_id2.ipynb`.\n",
    "    * If you answered the questionss in a different file you should submit a `.zip` file with the name `ee046202_hw1_id1_id2.zip` with content:\n",
    "        * `ee046202_hw1_id1_id2.ipynb` - the code tasks\n",
    "        * `ee046202_hw1_id1_id2.pdf` - answers to questions.\n",
    "    * No other file-types (`.py`, `.docx`...) will be accepted.\n",
    "* Submission on the course website (Moodle)."
   ]
  },
  {
   "cell_type": "markdown",
   "metadata": {},
   "source": [
    "### <img src=\"https://img.icons8.com/dusk/64/000000/online.png\" style=\"height:50px;display:inline\"> Working Online and Locally\n",
    "---\n",
    "* You can choose your working environment:\n",
    "    1. `Jupyter Notebook`, **locally** with <a href=\"https://www.anaconda.com/distribution/\">Anaconda</a> or **online** on <a href=\"https://colab.research.google.com/\">Google Colab</a>\n",
    "        * Colab also supports running code on GPU, so if you don't have one, Colab is the way to go. To enable GPU on Colab, in the menu: `Runtime`$\\rightarrow$ `Change Runtime Type` $\\rightarrow$`GPU`.\n",
    "    2. Python IDE such as <a href=\"https://www.jetbrains.com/pycharm/\">PyCharm</a> or <a href=\"https://code.visualstudio.com/\">Visual Studio Code</a>.\n",
    "        * Both allow editing and running Jupyter Notebooks.\n",
    "\n",
    "* Please refer to `Setting Up the Working Environment.pdf` on the Moodle or our GitHub (https://github.com/taldatech/ee046202-unsupervised-learning-data-analysis) to help you get everything installed.\n",
    "* If you need any technical assistance, please go to our Piazza forum (`hw1` folder) and describe your problem (preferably with images)."
   ]
  },
  {
   "cell_type": "markdown",
   "metadata": {},
   "source": [
    "### <img src=\"https://img.icons8.com/clouds/96/000000/keyboard.png\" style=\"height:50px;display:inline\"> Keyboard Shortcuts\n",
    "---\n",
    "* Run current cell: **Ctrl + Enter**\n",
    "* Run current cell and move to the next: **Shift + Enter**\n",
    "* Show lines in a code cell: **Esc + L**\n",
    "* View function documentation: **Shift + Tab** inside the parenthesis or `help(name_of_module)`\n",
    "* New cell below: **Esc + B**\n",
    "* Delete cell: **Esc + D, D** (two D's)"
   ]
  },
  {
   "cell_type": "markdown",
   "metadata": {},
   "source": [
    "## <img src=\"https://img.icons8.com/bubbles/48/000000/ask-question.png\" style=\"height:50px;display:inline\"> Question 1 - Gaussian RV- Basics\n",
    "---\n",
    "1. Let $Z \\sim \\mathcal{N}(0,1)$ be a normal Gaussian RV, and $X \\sim \\mathcal{N}(\\mu, \\sigma)$. The Cumulative Distribution Function (CDF) of $Z$ is defined as $$ P(Z\\leq c) \\triangleq \\phi(c).$$ Express $P(X\\geq x)$ using $\\phi(c)$.\n",
    "2. Consider a sequence of $N$ i.i.d. RVs $\\{X_i\\}_{i=1}^N$, where $X_i \\sim \\mathcal{N}(10,1)$. The empirical mean is given by $\\overline{X}_N = \\frac{1}{N}\\sum_{i=1}^NX_i$. What is the distribution of $\\overline{X}_N$?\n",
    "3. What is the probability $P(9.7 \\leq \\overline{X}_N\\leq 10.3)$ for $N=1,10,20$? Express first using the function $\\phi(X)$ and then use `scipy.stats.norm.cdf` to calculate $\\phi(x)$ and obtain a numerical value.\n",
    "4. Since Gaussian RVs are not bounded, we cannot use **Hoeffding's** inequality to bound terms of the form  $P(9.7 \\leq \\overline{X}_N\\leq 10.3)$. A possible alternative for this is to use the following proposition (which is more general and holds for a sum of sub-Gaussian RVs):\n",
    "    * **Proposition**: Let $\\{X_i\\}_{i=1}^N$ be i.i.d. RVs with $X_i \\sim \\mathcal{N}(\\mu, \\sigma)$. Then: $$ P(|\\frac{1}{N}\\sum_{i=1}^NX_i -\\mu|\\geq \\epsilon) \\leq 2 \\exp(-\\frac{N\\epsilon^2}{2\\sigma^2}).$$ Use this proposition to find a lower bound for $P(9.7 \\leq \\overline{X}_N\\leq 10.3)$ for $N=1,10,20$. "
   ]
  },
  {
   "cell_type": "markdown",
   "metadata": {},
   "source": [
    "## <img src=\"https://img.icons8.com/bubbles/48/000000/ask-question.png\" style=\"height:50px;display:inline\"> Question 2 - Parametric and Non-Parametric Estimation\n",
    "---\n",
    "1. Suppose $\\hat{\\theta}$ is an estimator for an unknown parameter $\\theta$. Show that $$MSE(\\hat{\\theta}) = Var(\\hat{\\theta}) + Bias^2(\\hat{\\theta})$$\n",
    "2. Let $X_1, ..., X_N \\sim Bernoulli(p)$ and let $Y_1, ..., Y_N \\sim Bernoulli(q)$ be i.i.d. RVs. \n",
    "    * Find a (non-parametric) point estimator and the estimated standard error for $p$ (use Hoeffding).\n",
    "        * Recall the standard deviation: $$ s_N(\\hat{\\theta}) = \\sqrt{Var(\\hat{\\theta}}) $$\n",
    "    * Find an approximated 90%, 95%, 99% confidence intervals for $p$. \n",
    "    * Find the point estimator and the estimated standard error for $p-q$.\n",
    "    * Find an approximated 90% confidence interval for $p-q$.\n",
    "3. Let $X_1, ..., X_N \\sim Binomial(10, \\theta)$ be i.i.d. RVs. Estimate $\\theta$ using MLE.\n",
    "    * $P(X_i|\\theta) = \\begin{pmatrix}10 \\\\ X_i \\end{pmatrix} \\theta^{X_i}(1-\\theta)^{10-X_i}$\n",
    "4. Let $X_1, ..., X_N \\sim F$ be i.i.d. RVs, where $F$ is an arbitrary, unknown CDF. Let $\\hat{F}$ be the empirical distribution function. For a fixed $F$, use the central limit theorem (CLT) to find the limiting distribution of $\\hat{F}_n(x)$.\n",
    "5. In the lecture and tutorial, we stated the **DKW** theorem and derived a C.I. for the empirical CDF, for 1D type of data. Derive a C.I. for the empirical CDF in a general dimension, i.e., as a function of $C(k)$[see non-parametric chapter in the lectures]. If $C(k) \\sim \\exp(k)$, what does it mean about the *hardness* of the problem in high dimension?\n",
    "6. Calculate $\\mathbb{E}[\\hat{F}_N]$ and $Var[\\hat{F}_N]$ using the definition of the empirical distribution function (remember that $X_1,..., X_N$ are i.i.d. from $F$)."
   ]
  },
  {
   "cell_type": "markdown",
   "metadata": {},
   "source": [
    "## <img src=\"https://img.icons8.com/bubbles/48/000000/ask-question.png\" style=\"height:50px;display:inline\"> Question 3 - Exam Question - Estimators\n",
    "---\n",
    "In order to check electrical devices, a system performs repeated tests in a device until its first failure appears. The tests were performed on $N$ devices. Denote $K_i$ as the number if tests that were performed on the $i^{th}$ device (including the final test where the failure appeared), where $i \\in \\{1,...,N\\}$. Assume that $K_1,...,K_N$ are i.i.d. random variables.\n",
    "1. Find a non-parametric estimator(i.e. the plug-in/point estimator) for $\\mathbb{E}[K]$ (hint: use the Tail Sum formula).\n",
    "2. Find a non-parametric estimator for $\\hat{p}_3 \\triangleq P(K=3)$, the probability that a failure will occur in the third test.\n",
    "3. Suggest a confidence interval (CI) for $\\hat{p}_3$ for $\\alpha = 0.05, N=100$.\n",
    "\n",
    "Assume $K \\sim Geom(p)$ (Geometric Distribution), where $p$ is unknown.\n",
    "4. Calculate the MLE for $p$ and the mean $\\mu = \\mathbb{E}[K]$.\n",
    "5. Calculate the probability that the number of tests is odd, i.e., that $K$ is odd, $P(K \\text{ is odd})$. Simplify as much as possible."
   ]
  },
  {
   "cell_type": "markdown",
   "metadata": {},
   "source": [
    "## <img src=\"https://img.icons8.com/color/48/000000/code.png\" style=\"height:50px;display:inline\"> Question 4 - Python - Parkinson's Disease Classification Data Analysis\n",
    "---\n",
    "In this exercise, we are going to do data analysis with Python and Pandas. As this is the first \"real\" exercise, we will add guidance for some of the tasks.\n",
    "\n",
    "1. Warmup - Generate 100 samples from $\\mathcal{N}(0,1)$ (`np.random.randn`). Compute a 95% CI for the CDF. Plot the true CDF, the CDF estimation and the CI in a single plot. To estimate $\\hat{F}_n$ use a histogram (`np.histogram`). Repeat this $K=1000$ times and compute the percentage of time that the interval contained the CDF (print the value) . In addition, plot in another single figure the *true* CDF, and the best and worst experiments (use $\\max_x|F(x) - \\hat{F}_n(x)|$ as quality measure).\n",
    "    * To compare np arrays element-wise use `np.less_equal(x1, x2 + eps), np.greater_equal(x1, x2 - eps)`, use `.all()` to verify if all the comaprisons were `True`.\n",
    "    \n",
    "We are now going to perform some real data analysis on the \"Parkinson's Disease Classification Data Set\": the data used in this study were gathered from 188 patients with PD (107 men and 81 women) with ages ranging from 33 to 87 at the Department of Neurology in CerrahpaÅŸa Faculty of Medicine, Istanbul University. The control group consists of 64 healthy individuals (23 men and 41 women) with ages varying between 41 and 82. During the data collection process, the microphone is set to 44.1 KHz and following the examination, the sustained phonation of the vowel /a/ was collected from each subject with three repetitions. \n",
    "\n",
    "The features are various speech signal processing algorithms including Time Frequency Features, Mel Frequency Cepstral Coefficients (MFCCs), Wavelet Transform based Features, Vocal Fold Features and TWQT features have been applied to the speech recordings of Parkinson's Disease (PD) patients to extract clinically useful information for PD assessment.\n",
    "\n",
    "2. Load the data with pandas, drop the 'id' column, take a sample ($k=10$, `dataframe.sample(k)`) and view it.\n",
    "    * The filename is `pd_speech_features.csv`.\n",
    "3. Compute the empirical correlation between all pairs of features. Show the results both in a heatmap.\n",
    "    * Use pandas `.corr()` to calculate the correaltion, and `plt.imshow()` to view the heatmap (2 heatmaps, one for the correlation and one for the absolute correlation). Add a color bar using `plt.colorbar()`\n",
    "4. Print the top-20 most correlated features. Follow this steps:\n",
    "    * Take the lower triangle of the correlation matrix (as it is symmetrical and we don't care about $Corr(X_i,X_i)$). Use `np.tril()`\n",
    "    * Consider only positive correlation (because negative correlation has a different, useful meaning). You can do that by `X = X[X >0]`.\n",
    "    * From here, these are recommended steps, feel free to achieve the goal in a different way.\n",
    "        * Assignment to a pandas DataFrame: `X.loc[:,:] = np.(...)`\n",
    "        * Unstacking the DataFrame (creates a new pivot, read the doc): `df.unstack()`\n",
    "        * Sorting: `df.sort()`\n",
    "\n",
    "5. What is the meaning when 2 different features are highly correlated? From a machine learning perspective, can a classifier learn new insights from highly-correlated features? In your answer, address the process of \"feature selection\" in ML (usually performed as a pre-processing step).\n",
    "\n",
    "6. Compute the **in-class** correlation between features. Plot a heat map for each class. Address the differences between the heat maps.\n",
    "\n",
    "7. Consider the features 'numPulses' and 'app_entropy_log_5_coef'. We wish to calculate a 95% confidence interval for the correlation between these features. We will use *Bootstrapping* and the *Chebyshev inequality* (as in Tutorial 2).\n",
    "    * Implement the bootstrap algorithm to calculate the standard deviation ($\\sigma$) of the correlation.\n",
    "        * You can use the algorithm from the tutorial, but you have to modify it to support 2 arrays.\n",
    "        * The algorithm will output the empirical correlation of the two input features, and a bootstrap estimation for the std ($\\sigma$). Use `K=300` bootstrap samples and `m=100` experiments.\n",
    "        * Tips:\n",
    "            * To get values for two columns: `data[['numPulses', 'app_entropy_log_5_coef']]`\n",
    "            * To calculate correlation, check out `numpy.corrcoef`.\n",
    "    * Use $\\sigma$ to calculate a 95% CI using Chebyshev inequality.\n",
    "        * Remember to to normalize by the size of the data ($N$).\n",
    "    The final print should look something like that: `95% confidence interval for the correlation: *** ± ***`"
   ]
  },
  {
   "cell_type": "code",
   "execution_count": 1,
   "metadata": {},
   "outputs": [],
   "source": [
    "# imports for q-4\n",
    "import numpy as np\n",
    "import matplotlib.pyplot as plt\n",
    "import pandas as pd\n",
    "from scipy.stats  import norm"
   ]
  },
  {
   "cell_type": "markdown",
   "metadata": {},
   "source": [
    "## <img src=\"https://img.icons8.com/dusk/64/000000/prize.png\" style=\"height:50px;display:inline\"> Credits\n",
    "---\n",
    "* Icons from <a href=\"https://icons8.com/\">Icon8.com</a> - https://icons8.com\n",
    "* Datasets from <a href=\"https://www.kaggle.com/\">Kaggle</a> - https://www.kaggle.com/"
   ]
  }
 ],
 "metadata": {
  "kernelspec": {
   "display_name": "Python 3",
   "language": "python",
   "name": "python3"
  },
  "language_info": {
   "codemirror_mode": {
    "name": "ipython",
    "version": 3
   },
   "file_extension": ".py",
   "mimetype": "text/x-python",
   "name": "python",
   "nbconvert_exporter": "python",
   "pygments_lexer": "ipython3",
   "version": "3.6.9"
  }
 },
 "nbformat": 4,
 "nbformat_minor": 2
}
